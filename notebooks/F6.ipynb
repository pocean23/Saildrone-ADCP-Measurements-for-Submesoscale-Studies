{
 "cells": [
  {
   "cell_type": "code",
   "execution_count": 1,
   "id": "a4b00ff4-01d2-4ce6-9edf-6fbec8a742e9",
   "metadata": {
    "tags": []
   },
   "outputs": [],
   "source": [
    "import xarray as xr\n",
    "import matplotlib\n",
    "import numpy as np\n",
    "import matplotlib.pyplot as plt\n",
    "from scipy.optimize import differential_evolution"
   ]
  },
  {
   "cell_type": "code",
   "execution_count": 4,
   "id": "d73f6575-1479-41e9-8f9f-26baeaa3eb8c",
   "metadata": {
    "tags": []
   },
   "outputs": [],
   "source": [
    "ds_sfIOP = xr.open_dataset('../../Data/SF_IOP_Pilot/v1_sf_data_iop_1085.nc')\n",
    "ds_sfPilot = xr.open_dataset('../../Data/SF_IOP_Pilot/v1_sf_data_pilot_1072.nc')"
   ]
  },
  {
   "cell_type": "code",
   "execution_count": 5,
   "id": "4ed155d6-89c9-40fb-87a1-bce9f37a3d61",
   "metadata": {
    "tags": []
   },
   "outputs": [],
   "source": [
    "sf2_new_all = ds_sfIOP.sf2_u.values\n",
    "reg_arr = ds_sfIOP.delr.values\n",
    "\n",
    "sf2_new_p_all = ds_sfPilot.sf2_u.values\n",
    "reg_arr_p = ds_sfPilot.delr.values"
   ]
  },
  {
   "cell_type": "code",
   "execution_count": 6,
   "id": "039eb7f6-849a-4ffb-86a9-7d96c893fe09",
   "metadata": {
    "tags": []
   },
   "outputs": [],
   "source": [
    "sf2_new = np.mean(sf2_new_all,axis=(0,1))\n",
    "sf2_new_p = np.mean(sf2_new_p_all,axis=(0,1))\n",
    "\n",
    "sf2_new = sf2_new[~np.isnan(sf2_new)]\n",
    "sf2_new_p = sf2_new_p[~np.isnan(sf2_new_p)]"
   ]
  },
  {
   "cell_type": "code",
   "execution_count": 7,
   "id": "ae2b03c0-bac2-430c-9935-7512d4c7a9a8",
   "metadata": {
    "tags": []
   },
   "outputs": [],
   "source": [
    "def objective_function_Pilot_sf(x):\n",
    "    # x represents the potential minimum location\n",
    "    return np.log(sf2_new_p[int(x)])\n",
    "\n",
    "bounds_Pilot = [(0, len(sf2_new_p)-1)]\n",
    "result_Pilot = differential_evolution(objective_function_Pilot_sf, bounds_Pilot)\n",
    "\n",
    "def objective_function_IOP_sf(x):\n",
    "    # x represents the potential minimum location\n",
    "    return np.log(sf2_new[int(x)])\n",
    "\n",
    "\n",
    "bounds_IOP = [(0, len(sf2_new)-1)]\n",
    "\n",
    "result_IOP = differential_evolution(objective_function_IOP_sf, bounds_IOP)"
   ]
  },
  {
   "cell_type": "code",
   "execution_count": 8,
   "id": "fe11cf07-0ce0-409c-953d-7f45212473ce",
   "metadata": {
    "tags": []
   },
   "outputs": [],
   "source": [
    "# Get the minimum value and its location\n",
    "\n",
    "min_value_IOP = result_IOP.fun\n",
    "min_location_index_IOP = int(result_IOP.x)+1\n",
    "\n",
    "min_value_pilot = result_Pilot.fun\n",
    "min_location_index_pilot = int(result_Pilot.x)+1"
   ]
  },
  {
   "cell_type": "code",
   "execution_count": 9,
   "id": "c91f1a0f-6508-4566-935e-b8c4a6d54bfa",
   "metadata": {
    "tags": []
   },
   "outputs": [
    {
     "data": {
      "text/plain": [
       "188"
      ]
     },
     "execution_count": 9,
     "metadata": {},
     "output_type": "execute_result"
    }
   ],
   "source": [
    "reg_arr_p[min_location_index_pilot]"
   ]
  },
  {
   "cell_type": "code",
   "execution_count": 11,
   "id": "47d382ee-d83d-4e43-afd0-d70b079de276",
   "metadata": {
    "tags": []
   },
   "outputs": [
    {
     "data": {
      "text/plain": [
       "0.0009508254878945435"
      ]
     },
     "execution_count": 11,
     "metadata": {},
     "output_type": "execute_result"
    }
   ],
   "source": [
    "np.exp(min_value_pilot)"
   ]
  },
  {
   "cell_type": "code",
   "execution_count": 11,
   "id": "2464f227-1630-4930-a422-fd3271c2a67f",
   "metadata": {
    "tags": []
   },
   "outputs": [],
   "source": [
    "depths = np.arange(3.9,51.9,2)+1.9"
   ]
  },
  {
   "cell_type": "code",
   "execution_count": 12,
   "id": "f0181dc6-f889-49f6-9568-5a3ebdf7221c",
   "metadata": {
    "tags": []
   },
   "outputs": [],
   "source": [
    "len_delr = 4968\n",
    "data_array = xr.DataArray(np.mean(sf2_new_p_all,axis=(0))[:,:len_delr], coords={'depths': depths, 'reg_arr_p': reg_arr_p[:len_delr]}, dims=['depths', 'reg_arr_p'])"
   ]
  },
  {
   "cell_type": "code",
   "execution_count": 13,
   "id": "ffb349b2-952a-4b27-866c-e61d3a13c9e5",
   "metadata": {
    "tags": []
   },
   "outputs": [],
   "source": [
    "delr_coarsen = xr.DataArray(reg_arr_p).coarsen(dim_0=20,boundary='trim').mean()\n",
    "sf2_p_coarsen = xr.DataArray(np.mean(sf2_new_p_all,axis=(0))).coarsen(dim_1=20,boundary='trim').mean()"
   ]
  },
  {
   "cell_type": "code",
   "execution_count": 14,
   "id": "3e58a82c-433d-4fdc-b822-952369b20155",
   "metadata": {
    "tags": []
   },
   "outputs": [],
   "source": [
    "#Pilot all depth minima \n",
    "\n",
    "all_depth_pilot_sf  = sf2_p_coarsen     #.    np.mean(sf2_new_p_all,axis=(0))\n",
    "delr_index = []\n",
    "sf_d = []\n",
    "\n",
    "for i in range(len(all_depth_pilot_sf[:,0])):\n",
    "    ds_idepth = all_depth_pilot_sf[i,:]\n",
    "    ds_idepth = ds_idepth[~np.isnan(ds_idepth)]\n",
    "    def objective_function_Pilot_sf(x):\n",
    "        # x represents the potential minimum location\n",
    "        return ds_idepth[int(x)]\n",
    "\n",
    "    bounds_Pilot = [(0, len(ds_idepth)-1)]\n",
    "    result_Pilot = differential_evolution(objective_function_Pilot_sf, bounds_Pilot)\n",
    "\n",
    "    min_value_pilot = result_Pilot.fun\n",
    "    min_location_index_pilot = int(result_Pilot.x)+1\n",
    "    \n",
    "    delr_index = np.append(delr_index,min_location_index_pilot)\n",
    "    sf_d = np.append(sf_d,min_value_pilot)\n",
    "    \n",
    "    \n",
    "    \n"
   ]
  },
  {
   "cell_type": "code",
   "execution_count": 15,
   "id": "7e5b3711-3e1a-4ccb-abfb-bcc4d82a86cc",
   "metadata": {
    "tags": []
   },
   "outputs": [
    {
     "data": {
      "text/plain": [
       "13"
      ]
     },
     "execution_count": 15,
     "metadata": {},
     "output_type": "execute_result"
    }
   ],
   "source": [
    "reg_arr_p[int(delr_index[0])]"
   ]
  },
  {
   "cell_type": "code",
   "execution_count": 16,
   "id": "62509dd6-f214-41d3-8efe-c0339a6a330b",
   "metadata": {},
   "outputs": [],
   "source": [
    "delrs = [delr_coarsen[int(delr_index[i])] for i in range(len(delr_index))]"
   ]
  },
  {
   "cell_type": "code",
   "execution_count": 19,
   "id": "b8ccdf88-f5ed-42ab-88d7-7f959a954528",
   "metadata": {
    "tags": []
   },
   "outputs": [
    {
     "data": {
      "text/plain": [
       "array([    1,     2,     3, ..., 21053, 21054, 21055])"
      ]
     },
     "execution_count": 19,
     "metadata": {},
     "output_type": "execute_result"
    }
   ],
   "source": [
    "reg_arr_p[~np.isnan(reg_arr_p)]"
   ]
  },
  {
   "cell_type": "code",
   "execution_count": 20,
   "id": "8ef2b340-0dbb-4ed1-8e08-3ba883c2d6fe",
   "metadata": {
    "tags": []
   },
   "outputs": [],
   "source": [
    "len_delr = 5968\n",
    "data_array_iop = xr.DataArray(np.mean(sf2_new_all,axis=(0))[:,:len_delr], coords={'depths': depths, 'reg_arr': reg_arr[:len_delr]}, dims=['depths', 'reg_arr'])"
   ]
  },
  {
   "cell_type": "code",
   "execution_count": 21,
   "id": "67a93a42-2a69-4402-b521-f725397cd132",
   "metadata": {
    "tags": []
   },
   "outputs": [],
   "source": [
    "delr_coarsen_iop = xr.DataArray(reg_arr).coarsen(dim_0=20,boundary='trim').mean()\n",
    "sf2_p_coarsen_iop = xr.DataArray(np.mean(sf2_new_all,axis=(0))).coarsen(dim_1=20,boundary='trim').mean()"
   ]
  },
  {
   "cell_type": "code",
   "execution_count": 22,
   "id": "3ce83fcf-cfea-4d64-8f5f-dfe3be05dcf3",
   "metadata": {
    "tags": []
   },
   "outputs": [],
   "source": [
    "#IOP-1 all depth minima \n",
    "\n",
    "all_depth_iop_sf  = sf2_p_coarsen_iop   #np.mean(sf2_new_all,axis=(0))\n",
    "delr_index_iop = []\n",
    "sf_d_iop = []\n",
    "\n",
    "for i in range(len(all_depth_iop_sf[:,0])):\n",
    "    #print(i)\n",
    "    ds_idepth_iop = all_depth_iop_sf[i,:]\n",
    "    ds_idepth_iop = ds_idepth_iop[~np.isnan(ds_idepth_iop)]\n",
    "    def objective_function_iop_sf(x):\n",
    "        # x represents the potential minimum location\n",
    "        return ds_idepth_iop[int(x)]\n",
    "\n",
    "    bounds_iop = [(0, len(ds_idepth_iop)-1)]\n",
    "    result_iop = differential_evolution(objective_function_iop_sf, bounds_iop,tol=0.005)\n",
    "\n",
    "    min_value_iop = result_iop.fun\n",
    "    min_location_index_iop = int(result_iop.x)+1\n",
    "    \n",
    "    delr_index_iop = np.append(delr_index_iop,min_location_index_iop)\n",
    "    sf_d_iop = np.append(sf_d_iop,min_value_iop)\n",
    "    \n",
    "    \n",
    "    \n"
   ]
  },
  {
   "cell_type": "code",
   "execution_count": 23,
   "id": "4dbaa651-09d2-46c3-b2cf-c6761096f1fd",
   "metadata": {
    "tags": []
   },
   "outputs": [],
   "source": [
    "delrs_iop = [delr_coarsen_iop[int(delr_index_iop[i])] for i in range(len(delr_index_iop))]"
   ]
  },
  {
   "cell_type": "code",
   "execution_count": 25,
   "id": "b748226e-15a2-40cd-bfc7-cf0127d2d9e4",
   "metadata": {
    "tags": []
   },
   "outputs": [
    {
     "data": {
      "text/plain": [
       "(217.16666666666666, 29.249881291307073)"
      ]
     },
     "execution_count": 25,
     "metadata": {},
     "output_type": "execute_result"
    }
   ],
   "source": [
    "np.mean(delrs_iop), np.std(delrs_iop)"
   ]
  },
  {
   "cell_type": "code",
   "execution_count": 26,
   "id": "ce754d7f-a77d-4c4d-8e9a-7fd33c1f074f",
   "metadata": {
    "tags": []
   },
   "outputs": [
    {
     "data": {
      "text/plain": [
       "(178.83333333333334, 41.19735698102759)"
      ]
     },
     "execution_count": 26,
     "metadata": {},
     "output_type": "execute_result"
    }
   ],
   "source": [
    "np.mean(delrs), np.std(delrs)"
   ]
  },
  {
   "cell_type": "code",
   "execution_count": 27,
   "id": "3f8f2b40-348a-4c9a-8633-aae0872d912a",
   "metadata": {
    "tags": []
   },
   "outputs": [
    {
     "data": {
      "text/plain": [
       "230.5"
      ]
     },
     "execution_count": 27,
     "metadata": {},
     "output_type": "execute_result"
    }
   ],
   "source": [
    "np.mean(delrs_iop[:6])"
   ]
  },
  {
   "cell_type": "code",
   "execution_count": 28,
   "id": "bc5385bf-6aa1-4837-97e7-a266f92c3c0a",
   "metadata": {
    "tags": []
   },
   "outputs": [
    {
     "data": {
      "text/plain": [
       "240.5"
      ]
     },
     "execution_count": 28,
     "metadata": {},
     "output_type": "execute_result"
    }
   ],
   "source": [
    "np.mean(delrs[:6])"
   ]
  },
  {
   "cell_type": "code",
   "execution_count": 29,
   "id": "ed941b1b-00e0-4484-a979-2a043f9041ec",
   "metadata": {
    "tags": []
   },
   "outputs": [
    {
     "data": {
      "text/plain": [
       "Text(0.02, 1.07, '[b]')"
      ]
     },
     "execution_count": 29,
     "metadata": {},
     "output_type": "execute_result"
    },
    {
     "data": {
      "image/png": "[encoded data removed]",
      "text/plain": [
       "<Figure size 800x500 with 3 Axes>"
      ]
     },
     "metadata": {},
     "output_type": "display_data"
    }
   ],
   "source": [
    "import matplotlib.pyplot as plt\n",
    "from matplotlib import colors\n",
    "\n",
    "# Set the overall font size for the plot\n",
    "plt.rcParams.update({'font.size': 12})\n",
    "\n",
    "fig, axs = plt.subplots(1, 2, figsize=(8, 5), sharey=True)\n",
    "\n",
    "# Define the LogNorm object for the color scale with suitable vmin and vmax values\n",
    "norm = colors.LogNorm(vmin=data_array.min(), vmax=data_array.max())\n",
    "\n",
    "# Pilot Data Plot\n",
    "p1 = data_array.plot(ax=axs[0], add_colorbar=False, xscale=\"log\", norm=norm, cmap='inferno')\n",
    "axs[0].scatter(delrs, data_array.depths.values,  color='white', edgecolor='black', s=24, zorder=3)  # Increase scatter size for visibility\n",
    "axs[0].invert_yaxis()\n",
    "axs[0].set_xlim([1, 4100])  # Adjust for log scale (0 is not allowed)\n",
    "axs[0].set_xlabel(r'$\\delta r\\, (m)$')\n",
    "axs[0].set_ylabel('Depths (m)')\n",
    "axs[0].set_title('Pilot')\n",
    "\n",
    "# IOP Data Plot\n",
    "p2 = data_array_iop.isel(reg_arr=slice(0, 2754)).plot(ax=axs[1], add_colorbar=False, xscale=\"log\", norm=norm, cmap='inferno')\n",
    "axs[1].scatter(delrs_iop, data_array_iop.depths.values, color='white', edgecolor='black', s=24, zorder=3)  # Increase scatter size for visibility\n",
    "axs[1].invert_yaxis()\n",
    "axs[1].set_xlim([1, 2708])  # Adjust for log scale (0 is not allowed)\n",
    "axs[1].set_xlabel(r'$\\delta r\\, (m)$')\n",
    "axs[1].set_title('IOP-1')\n",
    "axs[1].set_ylabel('')\n",
    "\n",
    "# Adjust layout\n",
    "plt.tight_layout(pad=2.0)  # Add some padding to ensure nothing is clipped\n",
    "\n",
    "# Create a colorbar\n",
    "cbar = fig.colorbar(p2, ax=axs.ravel().tolist(), extend='both')\n",
    "cbar.set_label(r'$SF_{2}$ ($m^{2}/s^{2}$)')\n",
    "\n",
    "# Add subplot labels\n",
    "axs[0].text(0.02, 1.07, '[a]', transform=axs[0].transAxes, fontsize=14, va='top')\n",
    "axs[1].text(0.02, 1.07, '[b]', transform=axs[1].transAxes, fontsize=14, va='top')\n",
    "\n",
    "\n",
    "#plt.savefig('../Plots/SF_vs_depth_for_minimum_avg_window_test_1hzdata.png',bbox_inches='tight',dpi=150)"
   ]
  },
  {
   "cell_type": "markdown",
   "id": "04c689c5-53aa-4efb-be1b-da01cf8f7772",
   "metadata": {
    "tags": []
   },
   "source": []
  },
  {
   "cell_type": "code",
   "execution_count": null,
   "id": "552a31d1-ffc2-41e4-bde9-3aa787442e29",
   "metadata": {},
   "outputs": [],
   "source": []
  }
 ],
 "metadata": {
  "kernelspec": {
   "display_name": "Python 3 (ipykernel)",
   "language": "python",
   "name": "python3"
  },
  "language_info": {
   "codemirror_mode": {
    "name": "ipython",
    "version": 3
   },
   "file_extension": ".py",
   "mimetype": "text/x-python",
   "name": "python",
   "nbconvert_exporter": "python",
   "pygments_lexer": "ipython3",
   "version": "3.10.9"
  }
 },
 "nbformat": 4,
 "nbformat_minor": 5
}
