{
 "cells": [
  {
   "cell_type": "code",
   "execution_count": 32,
   "id": "021e92e4-e138-4133-aa29-c3e1d28e92ce",
   "metadata": {
    "tags": []
   },
   "outputs": [],
   "source": [
    "import glob\n",
    "import xarray as xr\n",
    "import pandas as pd\n",
    "import numpy as np\n",
    "import matplotlib.pyplot as plt\n",
    "import cmocean\n",
    "import seawater as sw\n",
    "from scipy import linalg\n",
    "import gsw\n",
    "import sys\n",
    "sys.path.append('/Users/paban23/Research/PhD/S-MODE/S-MODE-IOP/IOP_codes')\n",
    "sys.path.append('/Users/paban23/Research/PhD/S-MODE/SD_ADCP_Analyses')\n",
    "#sys.path.insert(0,'/home/pab21003/PhD/Practice/NRT/Maps-main/tools/')\n",
    "from itertools import combinations\n",
    "# from utils import *\n",
    "from utils import *\n",
    "from KPE_functions import *\n",
    "# from spectra_utils import *\n",
    "from scipy import signal\n",
    "from scipy.special import gammainc\n",
    "from scipy.stats import kurtosis, skew\n",
    "from scipy import stats\n",
    "from scipy import linalg\n",
    "from scipy.signal import fftconvolve\n",
    "#%matplotlib widget\n",
    "import math"
   ]
  },
  {
   "cell_type": "code",
   "execution_count": 33,
   "id": "03ae6917-842c-4fe3-b1cd-c4ae11bf120f",
   "metadata": {
    "tags": []
   },
   "outputs": [
    {
     "name": "stderr",
     "output_type": "stream",
     "text": [
      "/opt/anaconda3/envs/research/lib/python3.10/site-packages/xarray/coding/times.py:251: RuntimeWarning: invalid value encountered in cast\n",
      "  flat_num_dates_ns_int = (flat_num_dates * _NS_PER_TIME_DELTA[delta]).astype(\n",
      "/opt/anaconda3/envs/research/lib/python3.10/site-packages/xarray/coding/times.py:251: RuntimeWarning: invalid value encountered in cast\n",
      "  flat_num_dates_ns_int = (flat_num_dates * _NS_PER_TIME_DELTA[delta]).astype(\n"
     ]
    }
   ],
   "source": [
    "sd_all = xr.open_dataset('/Users/paban23/Research/PhD/S-MODE/SD_ADCP_Analyses/Data/All_SDs_merged_4_50m_deep/1hz/all_SMODE_SDs_ADCP.nc').sel(trajectory=['1026','1048','1085','1087'])[[\"u\",\"v\"]]"
   ]
  },
  {
   "cell_type": "code",
   "execution_count": 34,
   "id": "8f17005b-1cf2-4134-8c42-504634cf0d6b",
   "metadata": {
    "tags": []
   },
   "outputs": [],
   "source": [
    "t1,t2 = '2022-10-19-18:00','2022-10-21-06:00' "
   ]
  },
  {
   "cell_type": "code",
   "execution_count": 35,
   "id": "c36f4112-0ccd-4d7d-875d-95e9eb3df014",
   "metadata": {
    "tags": []
   },
   "outputs": [],
   "source": [
    "ds1 = sd_all.sel(time=slice(t1,t2)).reset_coords(['longitude', 'latitude']).isel(cell_depth=np.arange(0,48,2))"
   ]
  },
  {
   "cell_type": "code",
   "execution_count": 36,
   "id": "d4999330-d1a9-43e9-9d54-076ff53a8180",
   "metadata": {
    "tags": []
   },
   "outputs": [],
   "source": [
    "ds1_subset_5min = ds1.resample(time='5min').mean(dim='time')\n",
    "ds1_subset_3min = ds1.resample(time='3min').mean(dim='time')"
   ]
  },
  {
   "cell_type": "code",
   "execution_count": 37,
   "id": "181397ca-bd77-4986-af2a-f237c5ab99b8",
   "metadata": {
    "tags": []
   },
   "outputs": [],
   "source": [
    "ds26 = ds1.sel(trajectory ='1026')\n",
    "ds48 = ds1.sel(trajectory ='1048')\n",
    "ds85 = ds1.sel(trajectory ='1085')\n",
    "ds87 = ds1.sel(trajectory ='1087')\n"
   ]
  },
  {
   "cell_type": "code",
   "execution_count": 38,
   "id": "24a8a875-c511-4715-be47-f267adc65ed8",
   "metadata": {
    "tags": []
   },
   "outputs": [],
   "source": [
    "ds26_5min = ds1_subset_5min.sel(trajectory ='1026')\n",
    "ds48_5min = ds1_subset_5min.sel(trajectory ='1048').interp(cell_depth = ds26_5min.cell_depth)\n",
    "ds85_5min = ds1_subset_5min.sel(trajectory ='1085').interp(cell_depth = ds26_5min.cell_depth)\n",
    "ds87_5min = ds1_subset_5min.sel(trajectory ='1087').interp(cell_depth = ds26_5min.cell_depth)"
   ]
  },
  {
   "cell_type": "code",
   "execution_count": 39,
   "id": "7111e0d0-4d93-48de-a647-659638dfce4e",
   "metadata": {
    "tags": []
   },
   "outputs": [],
   "source": [
    "ds26_3min = ds1_subset_3min.sel(trajectory ='1026')\n",
    "ds48_3min = ds1_subset_3min.sel(trajectory ='1048').interp(cell_depth = ds26_3min.cell_depth)\n",
    "ds85_3min = ds1_subset_3min.sel(trajectory ='1085').interp(cell_depth = ds26_3min.cell_depth)\n",
    "ds87_3min = ds1_subset_3min.sel(trajectory ='1087').interp(cell_depth = ds26_3min.cell_depth)"
   ]
  },
  {
   "cell_type": "code",
   "execution_count": 40,
   "id": "eea71c49-a4c1-4c2d-858a-469aed30d9f7",
   "metadata": {
    "tags": []
   },
   "outputs": [],
   "source": [
    "all_ds = ['ds26','ds48','ds85','ds87']\n",
    "for ds in all_ds:\n",
    "    #put the cartesian coordinate into the data\n",
    "    exec(ds+'_5min[\"x\"],'+ds+'_5min[\"y\"] = ll2xy('+ds+'_5min.longitude,'+ds+'_5min.latitude,-125.1-0.01,36.79-0.02)',globals())  # changed 36.89 to 36.79\n",
    "    exec(ds+'_5min[\"u_uncertainty\"] = '+ds+'.u.resample(time=\"5min\").std(dim=\"time\")/np.sqrt(300)',globals())\n",
    "    exec(ds+'_5min[\"v_uncertainty\"] = '+ds+'.v.resample(time=\"5min\").std(dim=\"time\")/np.sqrt(300)',globals())"
   ]
  },
  {
   "cell_type": "code",
   "execution_count": 41,
   "id": "24b504d8-bb13-4f6b-882f-f8dd3048d606",
   "metadata": {
    "tags": []
   },
   "outputs": [],
   "source": [
    "all_ds = ['ds26','ds48','ds85','ds87']\n",
    "for ds in all_ds:\n",
    "    #put the cartesian coordinate into the data\n",
    "    exec(ds+'_3min[\"x\"],'+ds+'_3min[\"y\"] = ll2xy('+ds+'_3min.longitude,'+ds+'_3min.latitude,-125.1-0.01,36.79-0.02)',globals())  # changed 36.89 to 36.79\n",
    "    exec(ds+'_3min[\"u_uncertainty\"] = '+ds+'.u.resample(time=\"3min\").std(dim=\"time\")/np.sqrt(180)',globals())\n",
    "    exec(ds+'_3min[\"v_uncertainty\"] = '+ds+'.v.resample(time=\"3min\").std(dim=\"time\")/np.sqrt(180)',globals())"
   ]
  },
  {
   "cell_type": "code",
   "execution_count": 42,
   "id": "34087687-8c64-468f-8a37-1cf83c357ed4",
   "metadata": {
    "tags": []
   },
   "outputs": [],
   "source": [
    "ds5min_all = xr.concat([ds26_5min,ds48_5min,ds85_5min,ds87_5min],dim='trajectory')\n",
    "ds3min_all = xr.concat([ds26_3min,ds48_3min,ds85_3min,ds87_3min],dim='trajectory')"
   ]
  },
  {
   "cell_type": "code",
   "execution_count": 43,
   "id": "8834632b-46db-405e-9a03-dadbb30a96cb",
   "metadata": {
    "tags": []
   },
   "outputs": [],
   "source": [
    "#ds5min_all.plot.scatter(x='x',y='y')"
   ]
  },
  {
   "cell_type": "code",
   "execution_count": 44,
   "id": "d5071008-8320-4d69-9fc8-deedc58bf192",
   "metadata": {
    "tags": []
   },
   "outputs": [],
   "source": [
    "#IOP TIMES\n",
    "t1s, t1e = '2022-10-19-18:00','2022-10-20-01:15'   #'2022-10-18-19:00','2022-10-20-20:15'\n",
    "t2s, t2e = '2022-10-20-01:20','2022-10-20-09:10'\n",
    "t3s, t3e = '2022-10-20-09:15','2022-10-20-19:30'\n",
    "# t4s, t4e = '2022-10-20-15:00','2022-10-20-19:30'\n",
    "t5s, t5e = '2022-10-20-19:35','2022-10-21-06:00'"
   ]
  },
  {
   "cell_type": "code",
   "execution_count": 45,
   "id": "25fb99eb-a48e-43de-9d86-762885bda12e",
   "metadata": {
    "tags": []
   },
   "outputs": [],
   "source": [
    "sd_all_sub_iop = xr.concat([ds5min_all.sel(time=slice(t1s,t1e)),\\\n",
    "                     ds5min_all.sel(time=slice(t2s,t2e)),\\\n",
    "                     ds5min_all.sel(time=slice(t3s,t3e)),\\\n",
    "                       # ds5min_all.sel(time=slice(t4s,t4e)),\\\n",
    "                       ds5min_all.sel(time=slice(t5s,t5e)),],dim=\"legs\")#.isel(cell_depth=np.arange(0,48,2))"
   ]
  },
  {
   "cell_type": "code",
   "execution_count": 46,
   "id": "86a782e7-bdd8-4e68-9a13-b76fccc8e3b9",
   "metadata": {
    "tags": []
   },
   "outputs": [],
   "source": [
    "sd_all_sub_iop_3min = xr.concat([ds3min_all.sel(time=slice(t1s,t1e)),\\\n",
    "                     ds3min_all.sel(time=slice(t2s,t2e)),\\\n",
    "                     ds3min_all.sel(time=slice(t3s,t3e)),\\\n",
    "                       # ds5min_all.sel(time=slice(t4s,t4e)),\\\n",
    "                       ds3min_all.sel(time=slice(t5s,t5e)),],dim=\"legs\")#.isel(cell_depth=np.arange(0,48,2))"
   ]
  },
  {
   "cell_type": "code",
   "execution_count": 47,
   "id": "1fbe7966-e9a6-4f19-a217-066d33c8eecd",
   "metadata": {
    "tags": []
   },
   "outputs": [],
   "source": [
    "def rotate_coords(ds):\n",
    "    for i in range(len(ds.legs.values)):\n",
    "        if i==0:\n",
    "            ds_nnull = ds.isel(legs=i).where(~ds.isel(legs=i).isnull(), drop=True)\n",
    "            _,_,coefs = least_squares(ds_nnull.y.values.flatten(),ds_nnull.x.values.flatten()) #get the mean track using LS\n",
    "            slope = coefs[1]\n",
    "            x_m,y_m = ds_nnull.isel(trajectory=0).x.values, coefs[0] + slope*ds_nnull.x.median(dim='trajectory').values  # try median instead of mean\n",
    "            theta_radians = np.arctan(slope)\n",
    "            coords = x_m +1j*y_m\n",
    "            rot_coords = coords*np.exp(-1j*theta_radians)\n",
    "\n",
    "            leg_coord = ds_nnull.x + 1j*ds_nnull.y\n",
    "            rotated_leg = leg_coord*np.exp(-1j*theta_radians)\n",
    "            ds_nnull['x_rot'] = rotated_leg.real                 #Add the rotated x,y coordinate for each saildrone to the data\n",
    "            ds_nnull['y_rot'] = rotated_leg.imag\n",
    "\n",
    "            ds_nnull['mean_rotated_x'] = (('time',), rotated_leg.real.mean(dim='trajectory').values)\n",
    "            ds_nnull['mean_rotated_y'] = (('time',), rotated_leg.imag.mean(dim='trajectory').values)\n",
    "        else:\n",
    "            ds_add = ds.isel(legs=i).where(~ds.isel(legs=i).isnull(), drop=True)\n",
    "            _,_,coefs = least_squares(ds_add.y.values.flatten(),ds_add.x.values.flatten()) #get the mean track using LS\n",
    "            slope = coefs[1]\n",
    "            x_m,y_m = ds_add.isel(trajectory=0).x.values, coefs[0] + slope*ds_add.isel(trajectory=0).x.values\n",
    "            theta_radians = np.arctan(slope)\n",
    "            coords = x_m +1j*y_m\n",
    "            rot_coords = coords*np.exp(-1j*theta_radians)\n",
    "\n",
    "            leg_coord = ds_add.x + 1j*ds_add.y\n",
    "            rotated_leg = leg_coord*np.exp(-1j*theta_radians)\n",
    "            ds_add['x_rot'] = rotated_leg.real                 #Add the rotated x,y coordinate for each saildrone to the data\n",
    "            ds_add['y_rot'] = rotated_leg.imag\n",
    "\n",
    "            ds_add['mean_rotated_x'] = (('time',), rotated_leg.real.mean(dim='trajectory').values)\n",
    "            ds_add['mean_rotated_y'] = (('time',), rotated_leg.imag.mean(dim='trajectory').values)\n",
    "            ds_nnull = xr.concat([ds_nnull,ds_add],dim='legs')\n",
    "            \n",
    "            \n",
    "    return ds_nnull"
   ]
  },
  {
   "cell_type": "code",
   "execution_count": 48,
   "id": "88ea92cf-4a53-4c0d-b70e-f664be076762",
   "metadata": {
    "tags": []
   },
   "outputs": [],
   "source": [
    "rot_ds  = rotate_coords(sd_all_sub_iop)\n",
    "rot_ds_3min  = rotate_coords(sd_all_sub_iop_3min)"
   ]
  },
  {
   "cell_type": "code",
   "execution_count": 50,
   "id": "67be8a20-e2d9-4da3-b123-900c8567bd74",
   "metadata": {
    "tags": []
   },
   "outputs": [],
   "source": [
    "# Calculate the weighted uncertainity of kinematic properties (Vorticity, Divergence, and Strain-rate)\n",
    "def KPE_uncertainity(A,c_u,c_v,B_u,B_v,z_u,z_v,n,strain_rate,u_uncert,v_uncert,sig2u,sig2v): # We provide the position(distance matrix), the velocities, and the least-square coefficients that includes mean velocities and velocity gradients\n",
    "    # provide only 5 u's i.e., u_all[:,i]\n",
    "    #calculate residual sum square SSres\n",
    "    ux = c_u[1]\n",
    "    uy = c_u[2]\n",
    "    vx = c_v[1] \n",
    "    vy = c_v[2]\n",
    "    # SSres_u = z_u.T@z_u - c_u.T@B_u.T@z_u\n",
    "    # SSres_v = z_v.T@z_v - c_v.T@B_v.T@z_v\n",
    "    \n",
    "    # caclulate residual mean square MSres = SSres/(n-p) = sigma square \n",
    "    # sigma_square_u = SSres_u/(n-3)\n",
    "    # sigma_square_v = SSres_v/(n-3)\n",
    "    sigma_square_u_net = sig2u #+ (np.mean(u_uncert)**2)\n",
    "    sigma_square_v_net = sig2v #+ (np.mean(v_uncert)**2)\n",
    "    \n",
    "    # Calculate the diagonal elements of Cjj = A.T@A, which is correlation?\n",
    "    #Cjj = linalg.inv(A.T@A)\n",
    "    #r_xy = np.corrcoef(xi,yi)[0,1]\n",
    "    Z_u = linalg.inv(A.T@linalg.inv(sigma_square_u_net)@A)   #@linalg.inv(V_u)\n",
    "    Z_v = linalg.inv(A.T@linalg.inv(sigma_square_v_net)@A)   #@linalg.inv(V_v)\n",
    "    \n",
    "    Ux_uncert = 2*np.sqrt(np.diag(Z_u)[1])\n",
    "    Uy_uncert = 2*np.sqrt(np.diag(Z_u)[2])\n",
    "    \n",
    "    Vx_uncert = 2*np.sqrt(np.diag(Z_v)[1])\n",
    "    Vy_uncert = 2*np.sqrt(np.diag(Z_v)[2])\n",
    "    \n",
    "    vort_uncert = np.sqrt(Vx_uncert**2 + Uy_uncert**2)\n",
    "    div_uncert = np.sqrt(Ux_uncert**2 + Vy_uncert**2)\n",
    "    \n",
    "    strain_rate_uncert = np.sqrt((((ux-vy)*Ux_uncert)**2 + ((ux-vy)*Vy_uncert)**2 + ((vx+uy)*Vx_uncert)**2 +((vx+uy)*Uy_uncert)**2)/(strain_rate**2))\n",
    "    \n",
    "    return vort_uncert, div_uncert, strain_rate_uncert\n",
    "    \n",
    "    \n"
   ]
  },
  {
   "cell_type": "code",
   "execution_count": 51,
   "id": "4f235597-57ab-49ac-a28e-8fe8247d73b8",
   "metadata": {
    "tags": []
   },
   "outputs": [],
   "source": [
    "def create_box_data(ds_names):\n",
    "    combined_ds1 = ds_names\n",
    "    # Calculate the mean longitude\n",
    "    central_x = combined_ds1.mean_rotated_x\n",
    "    central_y = combined_ds1.mean_rotated_y\n",
    "    \n",
    "    box_size = 2  # 1 km in meters\n",
    "    box_half_size = box_size / 2\n",
    "    #combined_ds1 = combined_ds1.set_coords(['longitude', 'latitude','x', 'y','u','v','u_uncertainty','v_uncertainty']) # Add all the variables and coordinates you need here \n",
    "                                                                                    #otherwise the dataset does not crop corretly for the variable not included here\n",
    "    count = 0\n",
    "    for j in range(len(combined_ds1.legs.values)):\n",
    "        #print(j)\n",
    "        combined_ds =  combined_ds1.isel(legs=j).where(~combined_ds1.isel(legs=j).isnull(), drop=True)# finish coding here\n",
    "        #combined_ds = combined_ds.set_coords(['longitude', 'latitude','x', 'y','u','v',\\      #we can comment this part no need to convert change the variables to coordiates, it works fine\n",
    "                     #                         'u_uncertainty','v_uncertainty','x_rot',\\\n",
    "                  #                            'y_rot','mean_rotated_x','mean_rotated_y'])\n",
    "        for i in range(len(combined_ds.time)):\n",
    "            k = i+count\n",
    "            #print(midpoint_lon[k].values)\n",
    "            x_min = central_x.isel(legs=j)[k] - box_half_size \n",
    "            x_max = central_x.isel(legs=j)[k] + box_half_size\n",
    "            y_min = central_y.isel(legs=j)[k] - box_half_size   # for some reason the y constarin was not working properly and for now the y constain does not matter that much\n",
    "            y_max = central_y.isel(legs=j)[k] + box_half_size\n",
    "\n",
    "            box = ((combined_ds.y_rot > y_min) & (combined_ds.y_rot < y_max) & (combined_ds.x_rot > x_min) & (combined_ds.x_rot < x_max) )\n",
    "            # try: \n",
    "                            # Generalize for any number of trajectories\n",
    "            all_trajectories = []\n",
    "            for traj in range(len(combined_ds.trajectory)):\n",
    "                trajectory_ds = combined_ds.isel(trajectory=traj).where(box.isel(trajectory=traj), drop=True)\n",
    "                all_trajectories.append(trajectory_ds)\n",
    "            \n",
    "            concatenated_trajectories = xr.concat(all_trajectories, dim='trajectory')\n",
    "            \n",
    "            x_prime = (concatenated_trajectories.x - np.mean(concatenated_trajectories.x))\n",
    "            y_prime = (concatenated_trajectories.y - np.mean(concatenated_trajectories.y))\n",
    "            #print(x_prime.values.flatten())\n",
    "            points = np.array(list(zip(x_prime.values[~np.isnan(x_prime.values)].flatten(),y_prime.values[~np.isnan(y_prime.values)].flatten())))\n",
    "            \n",
    "            if len(points) < 4:\n",
    "                # print(concatenated_trajectories.longitude.count().values)\n",
    "                # print(x_prime.values[~np.isnan(x_prime.values)].flatten())\n",
    "                eig = np.nan\n",
    "            else:\n",
    "                eig = eig_ratio(points)\n",
    "\n",
    "            concatenated_trajectories['x_prime'] = x_prime\n",
    "            concatenated_trajectories['y_prime'] = y_prime\n",
    "            concatenated_trajectories['eig'] = eig\n",
    "\n",
    "            if k == 0:\n",
    "                box_ds = concatenated_trajectories\n",
    "            else:\n",
    "                #print(k)\n",
    "                box_ds = xr.concat([box_ds, concatenated_trajectories], dim='box')\n",
    "\n",
    "        count +=i\n",
    "    \n",
    "    return box_ds"
   ]
  },
  {
   "cell_type": "code",
   "execution_count": 52,
   "id": "52a2574c-490f-49ac-a683-f6eec42b6be0",
   "metadata": {
    "tags": []
   },
   "outputs": [],
   "source": [
    "def calculate_values(A,u,v,B_u,B_v,z_u,z_v,f,p,u_uncert,v_uncert,sig2u,sig2v):\n",
    "    wi_u = linalg.inv(sig2u)\n",
    "    wi_v = linalg.inv(sig2v)\n",
    "    c_u= linalg.inv(A.T@wi_u@A)@A.T@wi_u@u\n",
    "    c_v= linalg.inv(A.T@wi_v@A)@A.T@wi_v@v\n",
    "\n",
    "    vorticity = c_v[1] - c_u[2]\n",
    "    divergence = c_u[1] + c_v[2]\n",
    "    sigmaS = c_v[1] + c_u[2]\n",
    "    sigmaN = c_u[1] - c_v[2]\n",
    "    strain_rate = np.sqrt(sigmaS**2 + sigmaN**2)\n",
    "    \n",
    "    vort_uncert, div_uncert, strain_uncert = KPE_uncertainity(A,c_u,c_v,B_u,B_v,z_u,z_v,p,strain_rate,u_uncert,v_uncert,sig2u,sig2v)\n",
    "\n",
    "    return vorticity / f, divergence / f, strain_rate / f, vort_uncert/f, div_uncert/f, strain_uncert/f"
   ]
  },
  {
   "cell_type": "code",
   "execution_count": 53,
   "id": "82991f0e-f6b9-48ce-97ea-1ddbad718953",
   "metadata": {
    "tags": []
   },
   "outputs": [],
   "source": [
    "def vort_div(x, y, u_all, v_all, u_un_all, v_un_all, eig):\n",
    "    omega = 2*np.pi/(3600*24) + 2*np.pi/(365*86400)\n",
    "    f = 2*omega*np.sin((37.4*np.pi)/180)\n",
    "\n",
    "    vort, div, strain, vort_uncert, div_uncert, strain_uncert = [], [], [], [], [], []\n",
    "\n",
    "    for i in range(len(x[:, 0, 0])):\n",
    "        valid_indices = ~np.isnan(u_all[i, :, :])\n",
    "        #print(valid_indices)\n",
    "\n",
    "        # Continue only if the eig value satisfies the condition\n",
    "        if abs(eig[i]) > 0.2:\n",
    "            p = np.sum(valid_indices) \n",
    "            if p > 6:\n",
    "                A = np.ones((p, 3))\n",
    "                A[:, 1] = x[i, :, :][valid_indices]\n",
    "                A[:, 2] = y[i, :, :][valid_indices]\n",
    "                \n",
    "                u_uncert = u_un_all[i,:,:][valid_indices]\n",
    "                v_uncert = v_un_all[i,:,:][valid_indices]\n",
    "                sig2u = np.diag(u_uncert**2)\n",
    "                sig2v = np.diag(v_uncert**2)\n",
    "                w_u = np.sqrt(1/u_uncert**2)   # 1/sigma = w\n",
    "                w_v = np.sqrt(1/v_uncert**2)\n",
    "\n",
    "                B_u = A*w_u[:, np.newaxis]\n",
    "                B_v = A*w_v[:, np.newaxis]\n",
    "                # print(i)\n",
    "                # print('number of points:{}',p)\n",
    "                u = u_all[i,:,:][valid_indices]\n",
    "                v = v_all[i,:,:][valid_indices]\n",
    "                z_u = u*w_u\n",
    "                z_v = v*w_v\n",
    "\n",
    "                # u_all_nonan = u_all[i, :, :][valid_indices]\n",
    "                # v_all_nonan = v_all[i, :, :][valid_indices]\n",
    "\n",
    "                vorticity, divergence, strain_rate, vorticity_uncert, divergence_uncert, strainrate_uncert = calculate_values(A,u,v,B_u,B_v,z_u,z_v,f,p,u_uncert,v_uncert,sig2u,sig2v)\n",
    "            else:\n",
    "                vorticity, divergence, strain_rate, vorticity_uncert, divergence_uncert, strainrate_uncert = np.nan, np.nan, np.nan, np.nan, np.nan, np.nan\n",
    "        else:\n",
    "            vorticity, divergence, strain_rate, vorticity_uncert, divergence_uncert, strainrate_uncert = np.nan, np.nan, np.nan, np.nan, np.nan, np.nan\n",
    "\n",
    "        vort.append(vorticity)\n",
    "        div.append(divergence)\n",
    "        strain.append(strain_rate)\n",
    "        vort_uncert.append(vorticity_uncert)\n",
    "        div_uncert.append(divergence_uncert)\n",
    "        strain_uncert.append(strainrate_uncert)\n",
    "\n",
    "    return div, vort, strain, vort_uncert, div_uncert, strain_uncert\n"
   ]
  },
  {
   "cell_type": "code",
   "execution_count": 54,
   "id": "f8dd1572-7618-43a9-a10a-6db7331ec6df",
   "metadata": {
    "tags": []
   },
   "outputs": [],
   "source": [
    "\n",
    "\n",
    "# SD parameters required to calculate kinematic properties\n",
    "def number_of_sd_parameters(c,ds_names): #n was there in place of c \n",
    "    #c = np.arange(n)\n",
    "    k=0\n",
    "    ds = create_box_data(ds_names)  \n",
    "    xp = ds.x_prime*1000\n",
    "    yp = ds.y_prime*1000\n",
    "    u_all = ds.u\n",
    "    v_all = ds.v\n",
    "    u_un_all = ds.u_uncertainty\n",
    "    v_un_all = ds.v_uncertainty\n",
    "    eig = ds.eig\n",
    "    #print(ds.u[:,0].values)\n",
    "    \n",
    "    return xp,yp,u_all,v_all,u_un_all,v_un_all,eig\n",
    "\n",
    "def calculate_kinematic_properties(n,r,ds_names):\n",
    "    if r==n:\n",
    "        c = np.arange(n)\n",
    "        xp_c,yp_c,u_all_c,v_all_c,u_un_all_c,v_un_all_c,eig = number_of_sd_parameters(c,ds_names)\n",
    "        kinematic_prop_c = [vort_div(xp_c.values,yp_c.values,u_all_c.isel(cell_depth=i).values,\\\n",
    "                                              v_all_c.isel(cell_depth=i).values,\\\n",
    "                                              u_un_all_c.isel(cell_depth=i).values,\\\n",
    "                                              v_un_all_c.isel(cell_depth=i).values,eig) for i in range(0,24)]                  # should start from 0 instead of 1\n",
    "        div, vort, strain, vort_uncert, div_uncert, strain_uncert = np.array(kinematic_prop_c)[:,0,:], np.array(kinematic_prop_c)[:,1,:],\\\n",
    "                                                                    np.array(kinematic_prop_c)[:,2,:], np.array(kinematic_prop_c)[:,3,:],\\\n",
    "                                                                    np.array(kinematic_prop_c)[:,4,:], np.array(kinematic_prop_c)[:,5,:]\n",
    "\n",
    "\n",
    "    elif r<n:                   #nCr (combination syntax)\n",
    "        #print('start')\n",
    "        count = 0\n",
    "        l = np.arange(0,n)\n",
    "        l2 = list(combinations(l,r))\n",
    "        for i in range(len(l2)):\n",
    "            c = l2[i]\n",
    "            xp_c,yp_c,u_all_c,v_all_c,u_un_all_c,v_un_all_c,eig = number_of_sd_parameters(c,ds_names)\n",
    "            kinematic_prop_c = [vort_div(xp_c.values,yp_c.values,u_all_c.isel(cell_depth=i).values,\\\n",
    "                                                  v_all_c.isel(cell_depth=i).values,\\\n",
    "                                                  u_un_all_c.isel(cell_depth=i).values,\\\n",
    "                                              v_un_all_c.isel(cell_depth=i).values,eig) for i in range(0,24)]                  # should start from 0 instead of 1\n",
    "            div_c, vort_c, strain_c, vort_uncert_c, div_uncert_c, strain_uncert_c = np.array(kinematic_prop_c)[:,0,:], np.array(kinematic_prop_c)[:,1,:],\\\n",
    "                                                                                    np.array(kinematic_prop_c)[:,2,:], np.array(kinematic_prop_c)[:,3,:],\\\n",
    "                                                                              np.array(kinematic_prop_c)[:,4,:], np.array(kinematic_prop_c)[:,5,:]\n",
    "            if count == 0:\n",
    "                div, vort, strain, vort_uncert, div_uncert, strain_uncert = div_c[np.newaxis], vort_c[np.newaxis], strain_c[np.newaxis],\\\n",
    "                                                                            vort_uncert_c[np.newaxis], div_uncert_c[np.newaxis], strain_uncert_c[np.newaxis]\n",
    "                count+=1\n",
    "            else:\n",
    "                div, vort, strain, vort_uncert, div_uncert, strain_uncert = np.vstack([div,div_c[np.newaxis]]), np.vstack([vort,vort_c[np.newaxis]]),\\\n",
    "                                                                            np.vstack([strain,strain_c[np.newaxis]]),np.vstack([vort_uncert,vort_uncert_c[np.newaxis]]),\\\n",
    "                                                                            np.vstack([div_uncert,div_uncert_c[np.newaxis]]), np.vstack([strain_uncert,strain_uncert_c[np.newaxis]])\n",
    "                \n",
    "    return xr.DataArray(div),xr.DataArray(vort),xr.DataArray(strain), xr.DataArray(vort_uncert),xr.DataArray(div_uncert),xr.DataArray(strain_uncert)\n",
    "        \n",
    "        \n",
    "    \n"
   ]
  },
  {
   "cell_type": "code",
   "execution_count": 55,
   "id": "684edf8c-b244-4bc8-a2d0-5d5c0e642078",
   "metadata": {
    "tags": []
   },
   "outputs": [],
   "source": [
    "#del vort_div"
   ]
  },
  {
   "cell_type": "code",
   "execution_count": 56,
   "id": "0331953a-fe30-487c-97b9-d0ae23dc1e82",
   "metadata": {
    "tags": []
   },
   "outputs": [],
   "source": [
    "ds_names = ['ds26_5min','ds48_5min','ds85_5min','ds87_5min']\n",
    "ds_names_3min = ['ds26_3min','ds48_3min','ds85_3min','ds87_3min']\n",
    "\n",
    "# ds_names_2SD = ['ds26_5min','ds85_5min']\n",
    "# ds_conv_names = ['ds26_conv_2min','ds48_conv_2min','ds85_conv_2min','ds87_conv_2min']"
   ]
  },
  {
   "cell_type": "code",
   "execution_count": 57,
   "id": "82174ad3-3711-4506-adc9-a11e248653ee",
   "metadata": {
    "tags": []
   },
   "outputs": [],
   "source": [
    "div, vort, strain, vort_uncert, div_uncert, strain_uncert = calculate_kinematic_properties(4,4,rot_ds)"
   ]
  },
  {
   "cell_type": "code",
   "execution_count": 58,
   "id": "76070b55-cdd2-4bae-9f2e-6e7ebe3260ee",
   "metadata": {
    "tags": []
   },
   "outputs": [],
   "source": [
    "div_3min, vort_3min, strain_3min, vort_uncert_3min, div_uncert_3min, strain_uncert_3min = calculate_kinematic_properties(4,4,rot_ds_3min)"
   ]
  },
  {
   "cell_type": "code",
   "execution_count": 59,
   "id": "e682660b-8fff-40a9-afb9-3070bc33c89f",
   "metadata": {
    "tags": []
   },
   "outputs": [],
   "source": [
    "depths =  rot_ds.cell_depth.values"
   ]
  },
  {
   "cell_type": "code",
   "execution_count": 60,
   "id": "f50d2e3f-63fd-484d-8ba3-095dedd7c06b",
   "metadata": {
    "tags": []
   },
   "outputs": [],
   "source": [
    "div = xr.DataArray(div).assign_coords({'dim_1':div.dim_1}).assign_coords({'dim_0':depths,'dim_1':rot_ds.time.values}).rename({'dim_0':'depths','dim_1': 'time'})\n",
    "vort = xr.DataArray(vort).assign_coords({'dim_1':vort.dim_1}).assign_coords({'dim_0':depths,'dim_1':rot_ds.time.values}).rename({'dim_0':'depths','dim_1': 'time'})\n",
    "strain = xr.DataArray(strain).assign_coords({'dim_1':strain.dim_1}).assign_coords({'dim_0':depths,'dim_1':rot_ds.time.values}).rename({'dim_0':'depths','dim_1': 'time'})\n",
    "\n",
    "div_3min = xr.DataArray(div_3min).assign_coords({'dim_1':div_3min.dim_1}).assign_coords({'dim_0':depths,'dim_1':rot_ds_3min.time.values}).rename({'dim_0':'depths','dim_1': 'time'})\n",
    "vort_3min = xr.DataArray(vort_3min).assign_coords({'dim_1':vort_3min.dim_1}).assign_coords({'dim_0':depths,'dim_1':rot_ds_3min.time.values}).rename({'dim_0':'depths','dim_1': 'time'})\n",
    "strain_3min = xr.DataArray(strain_3min).assign_coords({'dim_1':strain_3min.dim_1}).assign_coords({'dim_0':depths,'dim_1':rot_ds_3min.time.values}).rename({'dim_0':'depths','dim_1': 'time'})"
   ]
  },
  {
   "cell_type": "code",
   "execution_count": 61,
   "id": "8b09a814-63b1-4245-99f9-00d4e5dde899",
   "metadata": {
    "tags": []
   },
   "outputs": [],
   "source": [
    "div_uncert = xr.DataArray(div_uncert).assign_coords({'dim_1':div_uncert.dim_1}).assign_coords({'dim_0':depths,'dim_1':rot_ds.time.values}).rename({'dim_0':'depths','dim_1': 'time'})\n",
    "vort_uncert = xr.DataArray(vort_uncert).assign_coords({'dim_1':vort_uncert.dim_1}).assign_coords({'dim_0':depths,'dim_1':rot_ds.time.values}).rename({'dim_0':'depths','dim_1': 'time'})\n",
    "strain_uncert = xr.DataArray(strain_uncert).assign_coords({'dim_1':strain_uncert.dim_1}).assign_coords({'dim_0':depths,'dim_1':rot_ds.time.values}).rename({'dim_0':'depths','dim_1': 'time'})\n",
    "\n",
    "div_uncert_3min = xr.DataArray(div_uncert_3min).assign_coords({'dim_1':div_uncert_3min.dim_1}).assign_coords({'dim_0':depths,'dim_1':rot_ds_3min.time.values}).rename({'dim_0':'depths','dim_1': 'time'})\n",
    "vort_uncert_3min = xr.DataArray(vort_uncert_3min).assign_coords({'dim_1':vort_uncert_3min.dim_1}).assign_coords({'dim_0':depths,'dim_1':rot_ds_3min.time.values}).rename({'dim_0':'depths','dim_1': 'time'})\n",
    "strain_uncert_3min = xr.DataArray(strain_uncert_3min).assign_coords({'dim_1':strain_uncert_3min.dim_1}).assign_coords({'dim_0':depths,'dim_1':rot_ds_3min.time.values}).rename({'dim_0':'depths','dim_1': 'time'})"
   ]
  },
  {
   "cell_type": "code",
   "execution_count": 62,
   "id": "134210da-5043-4c6c-8551-b6dc2eeb8242",
   "metadata": {
    "tags": []
   },
   "outputs": [],
   "source": [
    "color2 = 'dodgerblue'\n",
    "color1 = 'saddlebrown'\n",
    "#clrs = ['coral','g','m','navy','maroon','saddlebrown']"
   ]
  },
  {
   "cell_type": "code",
   "execution_count": 64,
   "id": "aa46dc80-dc0f-4037-af49-46bb8ef8ff02",
   "metadata": {},
   "outputs": [
    {
     "data": {
      "image/png": "[encoded data removed]",
      "text/plain": [
       "<Figure size 800x500 with 3 Axes>"
      ]
     },
     "metadata": {},
     "output_type": "display_data"
    }
   ],
   "source": [
    "fig,ax = plt.subplots(3,1,figsize=(8,5))\n",
    "div[0,:].sel(time=slice(t1s,t1e)).plot(ax=ax[0],color=color1)\n",
    "div_3min[0,:].sel(time=slice(t1s,t1e)).plot(ax=ax[0],color=color2)\n",
    "ax[0].errorbar(div[0,:].sel(time=slice(t1s,t1e)).time.values,div[0,:].sel(time=slice(t1s,t1e)).values,div_uncert[0,:].sel(time=slice(t1s,t1e)).values,fmt='.',color=color1,alpha=0.1)\n",
    "ax[0].errorbar(div_3min[0,:].sel(time=slice(t1s,t1e)).time.values[::2],div_3min[0,:].sel(time=slice(t1s,t1e)).values[::2],div_uncert_3min[0,:].sel(time=slice(t1s,t1e)).values[::2],fmt='.',color=color2,alpha=0.2)\n",
    "\n",
    "ax[0].legend(('4 SDs (5min)','4 SDs (3min)',),bbox_to_anchor=(1.05,1.7),borderaxespad=0., frameon=True, shadow=True)\n",
    "ax[0].set_ylim(-2,2.6)\n",
    "ax[0].set_ylabel(r'$\\delta$/f (s$^{-1}$)',fontsize=12)\n",
    "ax[0].set_xlabel('')\n",
    "#ax[0].set_yticks(fontsize=10)\n",
    "#ax[0].set_xticks(color='w')\n",
    "ax[0].set_xticklabels([])\n",
    "vort[0,:].sel(time=slice(t1s,t1e)).plot(ax=ax[1],color=color1)\n",
    "vort_3min[0,:].sel(time=slice(t1s,t1e)).plot(ax=ax[1],x='time',color=color2)\n",
    "ax[1].errorbar(vort[0,:].sel(time=slice(t1s,t1e)).time.values,vort[0,:].sel(time=slice(t1s,t1e)).values,vort_uncert[0,:].sel(time=slice(t1s,t1e)).values,fmt='.',color=color1,alpha=0.1)\n",
    "ax[1].errorbar(vort_3min[0,:].sel(time=slice(t1s,t1e)).time.values[::2],vort_3min[0,:].sel(time=slice(t1s,t1e)).values[::2],vort_uncert_3min[0,:].sel(time=slice(t1s,t1e)).values[::2],fmt='.',color=color2,alpha=0.2)\n",
    "\n",
    "ax[1].set_ylim(-2,2.6)\n",
    "ax[1].set_ylabel(r'$\\zeta$/f (s$^{-1}$)',fontsize=12)\n",
    "ax[1].set_xticklabels([])\n",
    "ax[1].set_xlabel('')\n",
    "strain[0,:].sel(time=slice(t1s,t1e)).plot(ax=ax[2],color=color1)\n",
    "strain_3min[0,:].sel(time=slice(t1s,t1e)).plot(ax=ax[2],x='time',color=color2)\n",
    "ax[2].errorbar(strain[0,:].sel(time=slice(t1s,t1e)).time.values,strain[0,:].sel(time=slice(t1s,t1e)).values,strain_uncert[0,:].sel(time=slice(t1s,t1e)).values,fmt='.',color=color1,alpha=0.1)\n",
    "ax[2].errorbar(strain_3min[0,:].sel(time=slice(t1s,t1e)).time.values[::2],strain_3min[0,:].sel(time=slice(t1s,t1e)).values[::2],strain_uncert_3min[0,:].sel(time=slice(t1s,t1e)).values[::2],fmt='.',color=color2,alpha=0.2)\n",
    "\n",
    "ax[2].set_ylim(0,2.6)\n",
    "ax[2].set_ylabel(r'$\\alpha$/f (s$^{-1}$)',fontsize=12)\n",
    "\n",
    "plt.subplots_adjust(hspace=0.5)\n",
    "ax[0].set_title('Quad formation (weighted LS)')\n",
    "ax[1].set_title('')\n",
    "ax[2].set_title('')\n",
    "ax[0].spines['top'].set_visible(False)\n",
    "ax[0].spines['right'].set_visible(False)\n",
    "\n",
    "ax[1].spines['top'].set_visible(False)\n",
    "ax[1].spines['right'].set_visible(False)\n",
    "\n",
    "ax[2].spines['top'].set_visible(False)\n",
    "ax[2].spines['right'].set_visible(False)\n",
    "plt.savefig('./Plots/KPE_error_prop_4SDs_5min_vs_3min_Quad_IOP1_1stleg_overleaf_updated_uncert_aspect_0.2.png',bbox_inches='tight',dpi=150)"
   ]
  },
  {
   "cell_type": "code",
   "execution_count": null,
   "id": "6ca0f89d-2b96-4f1b-bd50-c7c7cb32f3d3",
   "metadata": {},
   "outputs": [],
   "source": []
  }
 ],
 "metadata": {
  "kernelspec": {
   "display_name": "Python 3 (ipykernel)",
   "language": "python",
   "name": "python3"
  },
  "language_info": {
   "codemirror_mode": {
    "name": "ipython",
    "version": 3
   },
   "file_extension": ".py",
   "mimetype": "text/x-python",
   "name": "python",
   "nbconvert_exporter": "python",
   "pygments_lexer": "ipython3",
   "version": "3.10.9"
  }
 },
 "nbformat": 4,
 "nbformat_minor": 5
}
